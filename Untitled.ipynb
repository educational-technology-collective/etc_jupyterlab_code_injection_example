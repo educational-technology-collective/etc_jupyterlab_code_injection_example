{
 "cells": [
  {
   "cell_type": "code",
   "execution_count": 1,
   "id": "ddfb9b52-37a0-431e-bcec-589c3338edea",
   "metadata": {},
   "outputs": [
    {
     "name": "stdout",
     "output_type": "stream",
     "text": [
      "TEST 1\n"
     ]
    }
   ],
   "source": [
    "print('TEST 1')"
   ]
  },
  {
   "cell_type": "code",
   "execution_count": 2,
   "id": "845f8647-ef53-4550-9135-cb1fceeaf57a",
   "metadata": {},
   "outputs": [
    {
     "name": "stdout",
     "output_type": "stream",
     "text": [
      "TEST 2\n"
     ]
    }
   ],
   "source": [
    "print('TEST 2')"
   ]
  },
  {
   "cell_type": "code",
   "execution_count": 3,
   "id": "f913b9e6-6ac3-42b5-956f-dc9be5d23776",
   "metadata": {},
   "outputs": [
    {
     "name": "stdout",
     "output_type": "stream",
     "text": [
      "TEST 3\n"
     ]
    }
   ],
   "source": [
    "print('TEST 3')"
   ]
  },
  {
   "cell_type": "code",
   "execution_count": 4,
   "id": "a95b5245-4f5b-4a17-9c88-ea993f4128a5",
   "metadata": {
    "inject": true,
    "tags": []
   },
   "outputs": [
    {
     "name": "stdout",
     "output_type": "stream",
     "text": [
      "hello\n",
      "TEST 4\n"
     ]
    }
   ],
   "source": [
    "print('TEST 4')\n",
    "import time\n",
    "time.sleep(2)"
   ]
  },
  {
   "cell_type": "code",
   "execution_count": 5,
   "id": "4e7ff262-5315-4b03-b409-12088f73fe45",
   "metadata": {},
   "outputs": [
    {
     "name": "stdout",
     "output_type": "stream",
     "text": [
      "TEST 5\n"
     ]
    }
   ],
   "source": [
    "print('TEST 5')"
   ]
  },
  {
   "cell_type": "code",
   "execution_count": 6,
   "id": "99bbc3cb-b469-415b-8c29-a527ef6f6ffd",
   "metadata": {},
   "outputs": [
    {
     "name": "stdout",
     "output_type": "stream",
     "text": [
      "TEST 6\n"
     ]
    }
   ],
   "source": [
    "print('TEST 6')"
   ]
  },
  {
   "cell_type": "code",
   "execution_count": 7,
   "id": "01cc2628-e108-491c-8596-4011be6ab191",
   "metadata": {},
   "outputs": [
    {
     "name": "stdout",
     "output_type": "stream",
     "text": [
      "TEST 7\n"
     ]
    }
   ],
   "source": [
    "print('TEST 7')"
   ]
  },
  {
   "cell_type": "code",
   "execution_count": 8,
   "id": "1f9895e5-b5df-4240-9163-2a444eae0754",
   "metadata": {},
   "outputs": [
    {
     "name": "stdout",
     "output_type": "stream",
     "text": [
      "TEST 8\n"
     ]
    }
   ],
   "source": [
    "print('TEST 8')"
   ]
  },
  {
   "cell_type": "code",
   "execution_count": 9,
   "id": "b7923f5a-2a63-4662-9dab-e0d27247727e",
   "metadata": {},
   "outputs": [
    {
     "name": "stdout",
     "output_type": "stream",
     "text": [
      "TEST 9\n"
     ]
    }
   ],
   "source": [
    "print('TEST 9')"
   ]
  },
  {
   "cell_type": "code",
   "execution_count": 10,
   "id": "6fb6e31e-692b-4bbf-9675-73a24c2d93a2",
   "metadata": {},
   "outputs": [
    {
     "name": "stdout",
     "output_type": "stream",
     "text": [
      "TEST 10\n"
     ]
    }
   ],
   "source": [
    "print('TEST 10')"
   ]
  },
  {
   "cell_type": "code",
   "execution_count": null,
   "id": "4e3f662d-5cf2-4299-ba6e-2eb797725659",
   "metadata": {},
   "outputs": [],
   "source": []
  }
 ],
 "metadata": {
  "kernelspec": {
   "display_name": "Python 3 (ipykernel)",
   "language": "python",
   "name": "python3"
  },
  "language_info": {
   "codemirror_mode": {
    "name": "ipython",
    "version": 3
   },
   "file_extension": ".py",
   "mimetype": "text/x-python",
   "name": "python",
   "nbconvert_exporter": "python",
   "pygments_lexer": "ipython3",
   "version": "3.10.2"
  }
 },
 "nbformat": 4,
 "nbformat_minor": 5
}
